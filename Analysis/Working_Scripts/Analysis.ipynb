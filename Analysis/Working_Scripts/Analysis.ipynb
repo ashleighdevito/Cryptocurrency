{
 "metadata": {
  "language_info": {
   "codemirror_mode": {
    "name": "ipython",
    "version": 3
   },
   "file_extension": ".py",
   "mimetype": "text/x-python",
   "name": "python",
   "nbconvert_exporter": "python",
   "pygments_lexer": "ipython3",
   "version": "3.6.10"
  },
  "orig_nbformat": 4,
  "kernelspec": {
   "name": "python3",
   "display_name": "Python 3.6.10 64-bit ('PythonData': conda)"
  },
  "interpreter": {
   "hash": "ed99c328fe6228cde88a5ea9dac3573c8a80070b6f57470153ed5be436ecc5ea"
  }
 },
 "nbformat": 4,
 "nbformat_minor": 2,
 "cells": [
  {
   "cell_type": "code",
   "execution_count": 1,
   "metadata": {},
   "outputs": [],
   "source": [
    "# Dependencies\n",
    "import requests\n",
    "import json\n",
    "import pandas as pd\n",
    "import time\n",
    "import pprint\n",
    "import datetime as dt\n",
    "from datetime import datetime\n"
   ]
  },
  {
   "cell_type": "code",
   "execution_count": 2,
   "metadata": {
    "tags": []
   },
   "outputs": [
    {
     "output_type": "stream",
     "name": "stderr",
     "text": [
      "C:\\Users\\12164\\anaconda3\\envs\\PythonData\\lib\\site-packages\\numpy\\lib\\arraysetops.py:569: FutureWarning: elementwise comparison failed; returning scalar instead, but in the future will perform elementwise comparison\n  mask |= (ar1 == a)\n"
     ]
    }
   ],
   "source": [
    "bitcoin_comment_times = pd.read_csv('output/comments_bitcoin.csv', index_col = 0)\n",
    "ethereum_comment_times = pd.read_csv('output/comments_ethereum.csv', index_col= 0)\n",
    "cardano_comment_times = pd.read_csv('output/comments_cardano.csv', index_col= 0)\n",
    "dogecoin_comment_times = pd.read_csv('output/comments_dogecoin.csv', index_col= 0)\n",
    "nasdaq_comment_times = pd.read_csv('output/comments_nasdaq.csv', index_col= 0)\n",
    "dow_comment_times = pd.read_csv('output/comments_dow.csv', index_col= 0)"
   ]
  },
  {
   "cell_type": "code",
   "execution_count": 3,
   "metadata": {},
   "outputs": [
    {
     "output_type": "execute_result",
     "data": {
      "text/plain": [
       "    Timestamp SubReddit Exchange\n",
       "0  1527825606  ethereum  Bitcoin\n",
       "1  1527825642       btc  Bitcoin\n",
       "2  1527825648       btc  Bitcoin\n",
       "3  1527825725       btc  Bitcoin\n",
       "4  1527825939  Sexsells  Bitcoin"
      ],
      "text/html": "<div>\n<style scoped>\n    .dataframe tbody tr th:only-of-type {\n        vertical-align: middle;\n    }\n\n    .dataframe tbody tr th {\n        vertical-align: top;\n    }\n\n    .dataframe thead th {\n        text-align: right;\n    }\n</style>\n<table border=\"1\" class=\"dataframe\">\n  <thead>\n    <tr style=\"text-align: right;\">\n      <th></th>\n      <th>Timestamp</th>\n      <th>SubReddit</th>\n      <th>Exchange</th>\n    </tr>\n  </thead>\n  <tbody>\n    <tr>\n      <th>0</th>\n      <td>1527825606</td>\n      <td>ethereum</td>\n      <td>Bitcoin</td>\n    </tr>\n    <tr>\n      <th>1</th>\n      <td>1527825642</td>\n      <td>btc</td>\n      <td>Bitcoin</td>\n    </tr>\n    <tr>\n      <th>2</th>\n      <td>1527825648</td>\n      <td>btc</td>\n      <td>Bitcoin</td>\n    </tr>\n    <tr>\n      <th>3</th>\n      <td>1527825725</td>\n      <td>btc</td>\n      <td>Bitcoin</td>\n    </tr>\n    <tr>\n      <th>4</th>\n      <td>1527825939</td>\n      <td>Sexsells</td>\n      <td>Bitcoin</td>\n    </tr>\n  </tbody>\n</table>\n</div>"
     },
     "metadata": {},
     "execution_count": 3
    }
   ],
   "source": [
    "bitcoin_comment_times['Exchange']= 'Bitcoin'\n",
    "ethereum_comment_times['Exchange']= 'Ethereum'\n",
    "cardano_comment_times['Exchange']= 'Cardano'\n",
    "dogecoin_comment_times['Exchange']= 'Dogecoin'\n",
    "nasdaq_comment_times['Exchange']= 'NASDAQ'\n",
    "dow_comment_times['Exchange']= 'Dow Jones'\n",
    "\n",
    "bitcoin_comment_times.head()"
   ]
  },
  {
   "cell_type": "code",
   "execution_count": 4,
   "metadata": {},
   "outputs": [],
   "source": [
    "reddit_comments = pd.concat([bitcoin_comment_times, ethereum_comment_times, cardano_comment_times, dogecoin_comment_times, nasdaq_comment_times, dow_comment_times], ignore_index= True, keys = ('Bitcoin', 'Ethereum', 'Cardano', 'Dogecoin', 'NASDAQ', 'Dow Jones'))"
   ]
  },
  {
   "cell_type": "code",
   "execution_count": 5,
   "metadata": {},
   "outputs": [
    {
     "output_type": "execute_result",
     "data": {
      "text/plain": [
       "Timestamp     int64\n",
       "SubReddit    object\n",
       "Exchange     object\n",
       "dtype: object"
      ]
     },
     "metadata": {},
     "execution_count": 5
    }
   ],
   "source": [
    "reddit_comments.dtypes"
   ]
  },
  {
   "cell_type": "code",
   "execution_count": 8,
   "metadata": {},
   "outputs": [
    {
     "output_type": "execute_result",
     "data": {
      "text/plain": [
       "          Timestamp          SubReddit   Exchange        Date  \\\n",
       "0        1527825606           ethereum    Bitcoin  1970-01-01   \n",
       "1        1527825642                btc    Bitcoin  1970-01-01   \n",
       "2        1527825648                btc    Bitcoin  1970-01-01   \n",
       "3        1527825725                btc    Bitcoin  1970-01-01   \n",
       "4        1527825939           Sexsells    Bitcoin  1970-01-01   \n",
       "...             ...                ...        ...         ...   \n",
       "1955499  1593573680  Syracuse_comments  Dow Jones  1970-01-01   \n",
       "1955500  1593574736      40kOrkScience  Dow Jones  1970-01-01   \n",
       "1955501  1593575142        confessions  Dow Jones  1970-01-01   \n",
       "1955502  1593575271     wallstreetbets  Dow Jones  1970-01-01   \n",
       "1955503  1593575531          Economics  Dow Jones  1970-01-01   \n",
       "\n",
       "                   DateTime  \n",
       "0       2018-06-01 00:00:06  \n",
       "1       2018-06-01 00:00:42  \n",
       "2       2018-06-01 00:00:48  \n",
       "3       2018-06-01 00:02:05  \n",
       "4       2018-06-01 00:05:39  \n",
       "...                     ...  \n",
       "1955499 2020-06-30 23:21:20  \n",
       "1955500 2020-06-30 23:38:56  \n",
       "1955501 2020-06-30 23:45:42  \n",
       "1955502 2020-06-30 23:47:51  \n",
       "1955503 2020-06-30 23:52:11  \n",
       "\n",
       "[1955504 rows x 5 columns]"
      ],
      "text/html": "<div>\n<style scoped>\n    .dataframe tbody tr th:only-of-type {\n        vertical-align: middle;\n    }\n\n    .dataframe tbody tr th {\n        vertical-align: top;\n    }\n\n    .dataframe thead th {\n        text-align: right;\n    }\n</style>\n<table border=\"1\" class=\"dataframe\">\n  <thead>\n    <tr style=\"text-align: right;\">\n      <th></th>\n      <th>Timestamp</th>\n      <th>SubReddit</th>\n      <th>Exchange</th>\n      <th>Date</th>\n      <th>DateTime</th>\n    </tr>\n  </thead>\n  <tbody>\n    <tr>\n      <th>0</th>\n      <td>1527825606</td>\n      <td>ethereum</td>\n      <td>Bitcoin</td>\n      <td>1970-01-01</td>\n      <td>2018-06-01 00:00:06</td>\n    </tr>\n    <tr>\n      <th>1</th>\n      <td>1527825642</td>\n      <td>btc</td>\n      <td>Bitcoin</td>\n      <td>1970-01-01</td>\n      <td>2018-06-01 00:00:42</td>\n    </tr>\n    <tr>\n      <th>2</th>\n      <td>1527825648</td>\n      <td>btc</td>\n      <td>Bitcoin</td>\n      <td>1970-01-01</td>\n      <td>2018-06-01 00:00:48</td>\n    </tr>\n    <tr>\n      <th>3</th>\n      <td>1527825725</td>\n      <td>btc</td>\n      <td>Bitcoin</td>\n      <td>1970-01-01</td>\n      <td>2018-06-01 00:02:05</td>\n    </tr>\n    <tr>\n      <th>4</th>\n      <td>1527825939</td>\n      <td>Sexsells</td>\n      <td>Bitcoin</td>\n      <td>1970-01-01</td>\n      <td>2018-06-01 00:05:39</td>\n    </tr>\n    <tr>\n      <th>...</th>\n      <td>...</td>\n      <td>...</td>\n      <td>...</td>\n      <td>...</td>\n      <td>...</td>\n    </tr>\n    <tr>\n      <th>1955499</th>\n      <td>1593573680</td>\n      <td>Syracuse_comments</td>\n      <td>Dow Jones</td>\n      <td>1970-01-01</td>\n      <td>2020-06-30 23:21:20</td>\n    </tr>\n    <tr>\n      <th>1955500</th>\n      <td>1593574736</td>\n      <td>40kOrkScience</td>\n      <td>Dow Jones</td>\n      <td>1970-01-01</td>\n      <td>2020-06-30 23:38:56</td>\n    </tr>\n    <tr>\n      <th>1955501</th>\n      <td>1593575142</td>\n      <td>confessions</td>\n      <td>Dow Jones</td>\n      <td>1970-01-01</td>\n      <td>2020-06-30 23:45:42</td>\n    </tr>\n    <tr>\n      <th>1955502</th>\n      <td>1593575271</td>\n      <td>wallstreetbets</td>\n      <td>Dow Jones</td>\n      <td>1970-01-01</td>\n      <td>2020-06-30 23:47:51</td>\n    </tr>\n    <tr>\n      <th>1955503</th>\n      <td>1593575531</td>\n      <td>Economics</td>\n      <td>Dow Jones</td>\n      <td>1970-01-01</td>\n      <td>2020-06-30 23:52:11</td>\n    </tr>\n  </tbody>\n</table>\n<p>1955504 rows × 5 columns</p>\n</div>"
     },
     "metadata": {},
     "execution_count": 8
    }
   ],
   "source": [
    "reddit_comments['DateTime']= [datetime.fromtimestamp(i) for i in reddit_comments['Timestamp']]\n",
    "reddit_comments"
   ]
  },
  {
   "cell_type": "code",
   "execution_count": 9,
   "metadata": {},
   "outputs": [
    {
     "output_type": "execute_result",
     "data": {
      "text/plain": [
       "    Timestamp SubReddit Exchange        Date            DateTime\n",
       "0  1527825606  ethereum  Bitcoin  2018-06-01 2018-06-01 00:00:06\n",
       "1  1527825642       btc  Bitcoin  2018-06-01 2018-06-01 00:00:42\n",
       "2  1527825648       btc  Bitcoin  2018-06-01 2018-06-01 00:00:48\n",
       "3  1527825725       btc  Bitcoin  2018-06-01 2018-06-01 00:02:05\n",
       "4  1527825939  Sexsells  Bitcoin  2018-06-01 2018-06-01 00:05:39"
      ],
      "text/html": "<div>\n<style scoped>\n    .dataframe tbody tr th:only-of-type {\n        vertical-align: middle;\n    }\n\n    .dataframe tbody tr th {\n        vertical-align: top;\n    }\n\n    .dataframe thead th {\n        text-align: right;\n    }\n</style>\n<table border=\"1\" class=\"dataframe\">\n  <thead>\n    <tr style=\"text-align: right;\">\n      <th></th>\n      <th>Timestamp</th>\n      <th>SubReddit</th>\n      <th>Exchange</th>\n      <th>Date</th>\n      <th>DateTime</th>\n    </tr>\n  </thead>\n  <tbody>\n    <tr>\n      <th>0</th>\n      <td>1527825606</td>\n      <td>ethereum</td>\n      <td>Bitcoin</td>\n      <td>2018-06-01</td>\n      <td>2018-06-01 00:00:06</td>\n    </tr>\n    <tr>\n      <th>1</th>\n      <td>1527825642</td>\n      <td>btc</td>\n      <td>Bitcoin</td>\n      <td>2018-06-01</td>\n      <td>2018-06-01 00:00:42</td>\n    </tr>\n    <tr>\n      <th>2</th>\n      <td>1527825648</td>\n      <td>btc</td>\n      <td>Bitcoin</td>\n      <td>2018-06-01</td>\n      <td>2018-06-01 00:00:48</td>\n    </tr>\n    <tr>\n      <th>3</th>\n      <td>1527825725</td>\n      <td>btc</td>\n      <td>Bitcoin</td>\n      <td>2018-06-01</td>\n      <td>2018-06-01 00:02:05</td>\n    </tr>\n    <tr>\n      <th>4</th>\n      <td>1527825939</td>\n      <td>Sexsells</td>\n      <td>Bitcoin</td>\n      <td>2018-06-01</td>\n      <td>2018-06-01 00:05:39</td>\n    </tr>\n  </tbody>\n</table>\n</div>"
     },
     "metadata": {},
     "execution_count": 9
    }
   ],
   "source": [
    "reddit_comments['Date'] = reddit_comments['DateTime'].dt.date\n",
    "reddit_comments.head()"
   ]
  },
  {
   "cell_type": "code",
   "execution_count": 11,
   "metadata": {},
   "outputs": [
    {
     "output_type": "execute_result",
     "data": {
      "text/plain": [
       "               Date          SubReddit   Exchange\n",
       "0        2018-06-01           ethereum    Bitcoin\n",
       "1        2018-06-01                btc    Bitcoin\n",
       "2        2018-06-01                btc    Bitcoin\n",
       "3        2018-06-01                btc    Bitcoin\n",
       "4        2018-06-01           Sexsells    Bitcoin\n",
       "...             ...                ...        ...\n",
       "1955499  2020-06-30  Syracuse_comments  Dow Jones\n",
       "1955500  2020-06-30      40kOrkScience  Dow Jones\n",
       "1955501  2020-06-30        confessions  Dow Jones\n",
       "1955502  2020-06-30     wallstreetbets  Dow Jones\n",
       "1955503  2020-06-30          Economics  Dow Jones\n",
       "\n",
       "[1955504 rows x 3 columns]"
      ],
      "text/html": "<div>\n<style scoped>\n    .dataframe tbody tr th:only-of-type {\n        vertical-align: middle;\n    }\n\n    .dataframe tbody tr th {\n        vertical-align: top;\n    }\n\n    .dataframe thead th {\n        text-align: right;\n    }\n</style>\n<table border=\"1\" class=\"dataframe\">\n  <thead>\n    <tr style=\"text-align: right;\">\n      <th></th>\n      <th>Date</th>\n      <th>SubReddit</th>\n      <th>Exchange</th>\n    </tr>\n  </thead>\n  <tbody>\n    <tr>\n      <th>0</th>\n      <td>2018-06-01</td>\n      <td>ethereum</td>\n      <td>Bitcoin</td>\n    </tr>\n    <tr>\n      <th>1</th>\n      <td>2018-06-01</td>\n      <td>btc</td>\n      <td>Bitcoin</td>\n    </tr>\n    <tr>\n      <th>2</th>\n      <td>2018-06-01</td>\n      <td>btc</td>\n      <td>Bitcoin</td>\n    </tr>\n    <tr>\n      <th>3</th>\n      <td>2018-06-01</td>\n      <td>btc</td>\n      <td>Bitcoin</td>\n    </tr>\n    <tr>\n      <th>4</th>\n      <td>2018-06-01</td>\n      <td>Sexsells</td>\n      <td>Bitcoin</td>\n    </tr>\n    <tr>\n      <th>...</th>\n      <td>...</td>\n      <td>...</td>\n      <td>...</td>\n    </tr>\n    <tr>\n      <th>1955499</th>\n      <td>2020-06-30</td>\n      <td>Syracuse_comments</td>\n      <td>Dow Jones</td>\n    </tr>\n    <tr>\n      <th>1955500</th>\n      <td>2020-06-30</td>\n      <td>40kOrkScience</td>\n      <td>Dow Jones</td>\n    </tr>\n    <tr>\n      <th>1955501</th>\n      <td>2020-06-30</td>\n      <td>confessions</td>\n      <td>Dow Jones</td>\n    </tr>\n    <tr>\n      <th>1955502</th>\n      <td>2020-06-30</td>\n      <td>wallstreetbets</td>\n      <td>Dow Jones</td>\n    </tr>\n    <tr>\n      <th>1955503</th>\n      <td>2020-06-30</td>\n      <td>Economics</td>\n      <td>Dow Jones</td>\n    </tr>\n  </tbody>\n</table>\n<p>1955504 rows × 3 columns</p>\n</div>"
     },
     "metadata": {},
     "execution_count": 11
    }
   ],
   "source": [
    "reddit_comments_clean = reddit_comments[['Date', 'SubReddit', 'Exchange']]\n",
    "reddit_comments_clean"
   ]
  },
  {
   "cell_type": "code",
   "execution_count": 18,
   "metadata": {},
   "outputs": [
    {
     "output_type": "execute_result",
     "data": {
      "text/plain": [
       "                     SubReddit\n",
       "Exchange Date                 \n",
       "Bitcoin  2018-06-01       2543\n",
       "         2018-06-02       2286\n",
       "         2018-06-03       2191\n",
       "         2018-06-04       2548\n",
       "         2018-06-05       2487\n",
       "...                        ...\n",
       "NASDAQ   2020-06-26        161\n",
       "         2020-06-27         88\n",
       "         2020-06-28        196\n",
       "         2020-06-29        191\n",
       "         2020-06-30        189\n",
       "\n",
       "[4566 rows x 1 columns]"
      ],
      "text/html": "<div>\n<style scoped>\n    .dataframe tbody tr th:only-of-type {\n        vertical-align: middle;\n    }\n\n    .dataframe tbody tr th {\n        vertical-align: top;\n    }\n\n    .dataframe thead th {\n        text-align: right;\n    }\n</style>\n<table border=\"1\" class=\"dataframe\">\n  <thead>\n    <tr style=\"text-align: right;\">\n      <th></th>\n      <th></th>\n      <th>SubReddit</th>\n    </tr>\n    <tr>\n      <th>Exchange</th>\n      <th>Date</th>\n      <th></th>\n    </tr>\n  </thead>\n  <tbody>\n    <tr>\n      <th rowspan=\"5\" valign=\"top\">Bitcoin</th>\n      <th>2018-06-01</th>\n      <td>2543</td>\n    </tr>\n    <tr>\n      <th>2018-06-02</th>\n      <td>2286</td>\n    </tr>\n    <tr>\n      <th>2018-06-03</th>\n      <td>2191</td>\n    </tr>\n    <tr>\n      <th>2018-06-04</th>\n      <td>2548</td>\n    </tr>\n    <tr>\n      <th>2018-06-05</th>\n      <td>2487</td>\n    </tr>\n    <tr>\n      <th>...</th>\n      <th>...</th>\n      <td>...</td>\n    </tr>\n    <tr>\n      <th rowspan=\"5\" valign=\"top\">NASDAQ</th>\n      <th>2020-06-26</th>\n      <td>161</td>\n    </tr>\n    <tr>\n      <th>2020-06-27</th>\n      <td>88</td>\n    </tr>\n    <tr>\n      <th>2020-06-28</th>\n      <td>196</td>\n    </tr>\n    <tr>\n      <th>2020-06-29</th>\n      <td>191</td>\n    </tr>\n    <tr>\n      <th>2020-06-30</th>\n      <td>189</td>\n    </tr>\n  </tbody>\n</table>\n<p>4566 rows × 1 columns</p>\n</div>"
     },
     "metadata": {},
     "execution_count": 18
    }
   ],
   "source": [
    "reddit_grouped = reddit_comments_clean.groupby(['Exchange', 'Date'])\n",
    "reddit_grouped.count()"
   ]
  },
  {
   "cell_type": "code",
   "execution_count": null,
   "metadata": {},
   "outputs": [],
   "source": []
  }
 ]
}