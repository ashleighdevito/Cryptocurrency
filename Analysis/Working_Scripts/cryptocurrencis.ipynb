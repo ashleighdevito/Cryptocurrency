{
 "cells": [
  {
   "cell_type": "code",
   "execution_count": 52,
   "metadata": {},
   "outputs": [],
   "source": [
    "#\n",
    "#T. Bradford\n",
    "#June 2021\n",
    "\n",
    "# Dependencies\n",
    "import matplotlib.pyplot as plt\n",
    "import scipy.stats as st\n",
    "from scipy.stats import linregress\n",
    "import numpy as np\n",
    "from scipy.stats import sem\n",
    "import requests\n",
    "import json\n",
    "#import tweepy\n",
    "import pandas as pd\n",
    "#from config import key, secret_key, token, token_secret\n",
    "from pandas_datareader import data\n",
    "\n",
    "#config keys for twitter\n",
    "#auth = tweepy.OAuthHandler(key,secret_key)\n",
    "#auth.set_access_token(token,token_secret)\n",
    "#api = tweepy.API(auth)"
   ]
  },
  {
   "cell_type": "code",
   "execution_count": 53,
   "metadata": {},
   "outputs": [],
   "source": [
    "#Query twitter api\n",
    "#may not be able tp use\n",
    "#tweet = tweepy.Cursor(api.search, q=\"#Bitcoin\",lang = \"en\",tweet_mode=\"extended\", since = \"2021-06-11\", until = \"2021-06-12\").items(10)"
   ]
  },
  {
   "cell_type": "code",
   "execution_count": 54,
   "metadata": {
    "tags": []
   },
   "outputs": [],
   "source": [
    "#for i in tweet:\n",
    "    #print(i)\n",
    "    #print(dir(i))\n",
    "    #print(i.full_text)"
   ]
  },
  {
   "cell_type": "code",
   "execution_count": null,
   "metadata": {},
   "outputs": [],
   "source": [
    "#define a function that take user's input to request and retreive stock ticker information\n",
    "def stock_information():\n",
    "    #User input ticker symbol not case sensitive and date range\n",
    "    ticker_symbol = input(\"'Please enter a ticker symbol'\").upper()\n",
    "    start_date = input(\"'Please enter start date of your search yyyy-mm-dd'\")\n",
    "    end_date = input(\"'Please enter end date of your search yyyy-mm-dd'\")\n",
    "    #\n",
    "    try:\n",
    "        user_request = data.DataReader(ticker_symbol, \"yahoo\", start_date,end_date)\n",
    "    except ValueError:\n",
    "        print(\"Date range or format not correct.\")\n",
    "    except KeyError:\n",
    "        print(\"Invalid ticker symbol.\")\n",
    "\n",
    "    #Create ticker dataframe with try except for data handling.\n",
    "    try:\n",
    "        #rename colums to include requested ticker symbol\n",
    "        ticker_dataframe = pd.DataFrame(user_request[[\"High\",\"Low\",\"Volume\"]]).rename(columns={\"High\": f\"{ticker_symbol} High\",\"Low\": f\"{ticker_symbol} Low\",\"Volume\": f\"{ticker_symbol} Volume\"})\n",
    "    except UnboundLocalError:\n",
    "        print(\"Unable return your request.\")\n",
    "    #export a csv of dataframe    \n",
    "    ticker_dataframe.to_csv(f\"output/{ticker_symbol}_{start_date}_{end_date}.csv\")\n",
    "    #\n",
    "    #try:\n",
    "    return ticker_dataframe\n",
    "    #except UnboundLocalError:\n",
    "        #print(\"Please try again!\")\n",
    " "
   ]
  },
  {
   "cell_type": "code",
   "execution_count": 55,
   "metadata": {},
   "outputs": [
    {
     "output_type": "execute_result",
     "data": {
      "text/plain": [
       "Symbols     Bitcoin High  Etheremum High  Dogecoin High  Tether High  \\\n",
       "Date                                                                   \n",
       "2018-05-31   7604.729980      589.093018       0.003469      1.00865   \n",
       "2018-06-01   7695.830078      597.077026       0.003584      1.00564   \n",
       "2018-06-02   7754.890137      624.513000       0.003750      1.00376   \n",
       "2018-06-03   7753.819824      623.429016       0.003760      1.00680   \n",
       "2018-06-04   7643.229980      611.330017       0.003722      1.01146   \n",
       "\n",
       "Symbols     Cardano High  \n",
       "Date                      \n",
       "2018-05-31      0.229184  \n",
       "2018-06-01      0.229531  \n",
       "2018-06-02      0.236761  \n",
       "2018-06-03      0.231228  \n",
       "2018-06-04      0.221728  "
      ],
      "text/html": "<div>\n<style scoped>\n    .dataframe tbody tr th:only-of-type {\n        vertical-align: middle;\n    }\n\n    .dataframe tbody tr th {\n        vertical-align: top;\n    }\n\n    .dataframe thead th {\n        text-align: right;\n    }\n</style>\n<table border=\"1\" class=\"dataframe\">\n  <thead>\n    <tr style=\"text-align: right;\">\n      <th>Symbols</th>\n      <th>Bitcoin High</th>\n      <th>Etheremum High</th>\n      <th>Dogecoin High</th>\n      <th>Tether High</th>\n      <th>Cardano High</th>\n    </tr>\n    <tr>\n      <th>Date</th>\n      <th></th>\n      <th></th>\n      <th></th>\n      <th></th>\n      <th></th>\n    </tr>\n  </thead>\n  <tbody>\n    <tr>\n      <th>2018-05-31</th>\n      <td>7604.729980</td>\n      <td>589.093018</td>\n      <td>0.003469</td>\n      <td>1.00865</td>\n      <td>0.229184</td>\n    </tr>\n    <tr>\n      <th>2018-06-01</th>\n      <td>7695.830078</td>\n      <td>597.077026</td>\n      <td>0.003584</td>\n      <td>1.00564</td>\n      <td>0.229531</td>\n    </tr>\n    <tr>\n      <th>2018-06-02</th>\n      <td>7754.890137</td>\n      <td>624.513000</td>\n      <td>0.003750</td>\n      <td>1.00376</td>\n      <td>0.236761</td>\n    </tr>\n    <tr>\n      <th>2018-06-03</th>\n      <td>7753.819824</td>\n      <td>623.429016</td>\n      <td>0.003760</td>\n      <td>1.00680</td>\n      <td>0.231228</td>\n    </tr>\n    <tr>\n      <th>2018-06-04</th>\n      <td>7643.229980</td>\n      <td>611.330017</td>\n      <td>0.003722</td>\n      <td>1.01146</td>\n      <td>0.221728</td>\n    </tr>\n  </tbody>\n</table>\n</div>"
     },
     "metadata": {},
     "execution_count": 55
    }
   ],
   "source": [
    "#Bitcoin ticker symbol is BTC-USD\n",
    "#Etheremum ticker symbol is ETH-USD\n",
    "#Dogecoin ticker symbol is DOGE-USD\n",
    "#Tether ticker symbol is USDT-USD\n",
    "#Cardano ticker symbol is ADA-USD\n",
    "#creat a list of cryptocurrencies\n",
    "crypto_list=[\"BTC-USD\",\"ETH-USD\",\"DOGE-USD\",\"USDT-USD\",\"ADA-USD\"]\n",
    "#define date range\n",
    "start_d = \"2018-06-01\"\n",
    "end_d = \"2020-06-30\"\n",
    "#creat dataframe two indexes\n",
    "crypto_list_df = data.DataReader(crypto_list, \"yahoo\", start_d,end_d)\n",
    "#filter out daily high\n",
    "crypto_high = crypto_list_df.High.rename(columns={\"BTC-USD\": \"Bitcoin High\", \"ETH-USD\": \"Etheremum High\",\"DOGE-USD\":\"Dogecoin High\", \"USDT-USD\":\"Tether High\", \"ADA-USD\":\"Cardano High\" })\n",
    "#save to csv\n",
    "crypto_high.to_csv(\"output/crypto_high.csv\")\n",
    "#display\n",
    "crypto_high.head()"
   ]
  },
  {
   "cell_type": "code",
   "execution_count": 56,
   "metadata": {},
   "outputs": [
    {
     "output_type": "execute_result",
     "data": {
      "text/plain": [
       "                       Mean       Median      Variance  standard deviation  \\\n",
       "Symbols                                                                      \n",
       "Bitcoin High    7444.047734  7427.385742  5.139878e+06         2267.129828   \n",
       "Etheremum High   220.907715   195.147934  1.042454e+04          102.100624   \n",
       "Dogecoin High      0.002852     0.002583  8.920380e-07            0.000944   \n",
       "Tether High        1.011716     1.010486  9.115036e-05            0.009547   \n",
       "Cardano High       0.068951     0.055928  1.412334e-03            0.037581   \n",
       "\n",
       "                Standard Error of the Mean  \n",
       "Symbols                                     \n",
       "Bitcoin High                     82.183392  \n",
       "Etheremum High                    3.701145  \n",
       "Dogecoin High                     0.000034  \n",
       "Tether High                       0.000346  \n",
       "Cardano High                      0.001362  "
      ],
      "text/html": "<div>\n<style scoped>\n    .dataframe tbody tr th:only-of-type {\n        vertical-align: middle;\n    }\n\n    .dataframe tbody tr th {\n        vertical-align: top;\n    }\n\n    .dataframe thead th {\n        text-align: right;\n    }\n</style>\n<table border=\"1\" class=\"dataframe\">\n  <thead>\n    <tr style=\"text-align: right;\">\n      <th></th>\n      <th>Mean</th>\n      <th>Median</th>\n      <th>Variance</th>\n      <th>standard deviation</th>\n      <th>Standard Error of the Mean</th>\n    </tr>\n    <tr>\n      <th>Symbols</th>\n      <th></th>\n      <th></th>\n      <th></th>\n      <th></th>\n      <th></th>\n    </tr>\n  </thead>\n  <tbody>\n    <tr>\n      <th>Bitcoin High</th>\n      <td>7444.047734</td>\n      <td>7427.385742</td>\n      <td>5.139878e+06</td>\n      <td>2267.129828</td>\n      <td>82.183392</td>\n    </tr>\n    <tr>\n      <th>Etheremum High</th>\n      <td>220.907715</td>\n      <td>195.147934</td>\n      <td>1.042454e+04</td>\n      <td>102.100624</td>\n      <td>3.701145</td>\n    </tr>\n    <tr>\n      <th>Dogecoin High</th>\n      <td>0.002852</td>\n      <td>0.002583</td>\n      <td>8.920380e-07</td>\n      <td>0.000944</td>\n      <td>0.000034</td>\n    </tr>\n    <tr>\n      <th>Tether High</th>\n      <td>1.011716</td>\n      <td>1.010486</td>\n      <td>9.115036e-05</td>\n      <td>0.009547</td>\n      <td>0.000346</td>\n    </tr>\n    <tr>\n      <th>Cardano High</th>\n      <td>0.068951</td>\n      <td>0.055928</td>\n      <td>1.412334e-03</td>\n      <td>0.037581</td>\n      <td>0.001362</td>\n    </tr>\n  </tbody>\n</table>\n</div>"
     },
     "metadata": {},
     "execution_count": 56
    }
   ],
   "source": [
    "#calculate mean, median, variance, standard deviation, and Cryptocurrency high\n",
    "crypto_high_mean = crypto_high.mean()\n",
    "crypto_high_median = crypto_high.median()\n",
    "crypto_high_variance = crypto_high.var()\n",
    "crypto_high_std = crypto_high.std()\n",
    "crypto_high_sem = crypto_high.sem()\n",
    "\n",
    "#create Dataframe\n",
    "crypto_high_stats = pd.DataFrame({\"Mean\": crypto_high_mean,\"Median\": crypto_high_median, \"Variance\":crypto_high_variance, \"standard deviation\": crypto_high_std, \"Standard Error of the Mean\":crypto_high_sem})\n",
    "\n",
    "#save to csv\n",
    "crypto_high_stats.to_csv(\"output/crypto_high_stats.csv\")\n",
    "\n",
    "#display\n",
    "crypto_high_stats"
   ]
  },
  {
   "cell_type": "code",
   "execution_count": 57,
   "metadata": {},
   "outputs": [
    {
     "output_type": "execute_result",
     "data": {
      "text/plain": [
       "Symbols     Bitcoin Low  Etheremum Low  Dogecoin Low  Tether Low  Cardano Low\n",
       "Date                                                                         \n",
       "2018-05-31  7407.339844     567.664978      0.003336    0.994694     0.216955\n",
       "2018-06-01  7497.259766     577.322021      0.003400    0.986231     0.219242\n",
       "2018-06-02  7613.040039     591.258972      0.003545    0.986847     0.225118\n",
       "2018-06-03  7474.040039     583.747009      0.003512    0.995257     0.212290\n",
       "2018-06-04  7397.000000     580.981995      0.003514    0.990879     0.204815"
      ],
      "text/html": "<div>\n<style scoped>\n    .dataframe tbody tr th:only-of-type {\n        vertical-align: middle;\n    }\n\n    .dataframe tbody tr th {\n        vertical-align: top;\n    }\n\n    .dataframe thead th {\n        text-align: right;\n    }\n</style>\n<table border=\"1\" class=\"dataframe\">\n  <thead>\n    <tr style=\"text-align: right;\">\n      <th>Symbols</th>\n      <th>Bitcoin Low</th>\n      <th>Etheremum Low</th>\n      <th>Dogecoin Low</th>\n      <th>Tether Low</th>\n      <th>Cardano Low</th>\n    </tr>\n    <tr>\n      <th>Date</th>\n      <th></th>\n      <th></th>\n      <th></th>\n      <th></th>\n      <th></th>\n    </tr>\n  </thead>\n  <tbody>\n    <tr>\n      <th>2018-05-31</th>\n      <td>7407.339844</td>\n      <td>567.664978</td>\n      <td>0.003336</td>\n      <td>0.994694</td>\n      <td>0.216955</td>\n    </tr>\n    <tr>\n      <th>2018-06-01</th>\n      <td>7497.259766</td>\n      <td>577.322021</td>\n      <td>0.003400</td>\n      <td>0.986231</td>\n      <td>0.219242</td>\n    </tr>\n    <tr>\n      <th>2018-06-02</th>\n      <td>7613.040039</td>\n      <td>591.258972</td>\n      <td>0.003545</td>\n      <td>0.986847</td>\n      <td>0.225118</td>\n    </tr>\n    <tr>\n      <th>2018-06-03</th>\n      <td>7474.040039</td>\n      <td>583.747009</td>\n      <td>0.003512</td>\n      <td>0.995257</td>\n      <td>0.212290</td>\n    </tr>\n    <tr>\n      <th>2018-06-04</th>\n      <td>7397.000000</td>\n      <td>580.981995</td>\n      <td>0.003514</td>\n      <td>0.990879</td>\n      <td>0.204815</td>\n    </tr>\n  </tbody>\n</table>\n</div>"
     },
     "metadata": {},
     "execution_count": 57
    }
   ],
   "source": [
    "#filter out daily low\n",
    "crypto_low = crypto_list_df.Low.rename(columns={\"BTC-USD\": \"Bitcoin Low\", \"ETH-USD\": \"Etheremum Low\",\"DOGE-USD\":\"Dogecoin Low\", \"USDT-USD\":\"Tether Low\", \"ADA-USD\":\"Cardano Low\" })\n",
    "#save to csv\n",
    "crypto_low.to_csv(\"output/crypto_low.csv\")\n",
    "#display\n",
    "crypto_low.head()"
   ]
  },
  {
   "cell_type": "code",
   "execution_count": 58,
   "metadata": {},
   "outputs": [
    {
     "output_type": "execute_result",
     "data": {
      "text/plain": [
       "                      Mean       Median      Variance  standard deviation  \\\n",
       "Symbols                                                                     \n",
       "Bitcoin Low    7137.763140  7170.922852  4.614208e+06         2148.070823   \n",
       "Etheremum Low   209.078151   185.086319  9.396720e+03           96.936680   \n",
       "Dogecoin Low      0.002690     0.002471  7.474941e-07            0.000865   \n",
       "Tether Low        0.994434     0.995340  9.928309e-05            0.009964   \n",
       "Cardano Low       0.064235     0.051520  1.208255e-03            0.034760   \n",
       "\n",
       "               Standard Error of the Mean  \n",
       "Symbols                                    \n",
       "Bitcoin Low                     77.867507  \n",
       "Etheremum Low                    3.513952  \n",
       "Dogecoin Low                     0.000031  \n",
       "Tether Low                       0.000361  \n",
       "Cardano Low                      0.001260  "
      ],
      "text/html": "<div>\n<style scoped>\n    .dataframe tbody tr th:only-of-type {\n        vertical-align: middle;\n    }\n\n    .dataframe tbody tr th {\n        vertical-align: top;\n    }\n\n    .dataframe thead th {\n        text-align: right;\n    }\n</style>\n<table border=\"1\" class=\"dataframe\">\n  <thead>\n    <tr style=\"text-align: right;\">\n      <th></th>\n      <th>Mean</th>\n      <th>Median</th>\n      <th>Variance</th>\n      <th>standard deviation</th>\n      <th>Standard Error of the Mean</th>\n    </tr>\n    <tr>\n      <th>Symbols</th>\n      <th></th>\n      <th></th>\n      <th></th>\n      <th></th>\n      <th></th>\n    </tr>\n  </thead>\n  <tbody>\n    <tr>\n      <th>Bitcoin Low</th>\n      <td>7137.763140</td>\n      <td>7170.922852</td>\n      <td>4.614208e+06</td>\n      <td>2148.070823</td>\n      <td>77.867507</td>\n    </tr>\n    <tr>\n      <th>Etheremum Low</th>\n      <td>209.078151</td>\n      <td>185.086319</td>\n      <td>9.396720e+03</td>\n      <td>96.936680</td>\n      <td>3.513952</td>\n    </tr>\n    <tr>\n      <th>Dogecoin Low</th>\n      <td>0.002690</td>\n      <td>0.002471</td>\n      <td>7.474941e-07</td>\n      <td>0.000865</td>\n      <td>0.000031</td>\n    </tr>\n    <tr>\n      <th>Tether Low</th>\n      <td>0.994434</td>\n      <td>0.995340</td>\n      <td>9.928309e-05</td>\n      <td>0.009964</td>\n      <td>0.000361</td>\n    </tr>\n    <tr>\n      <th>Cardano Low</th>\n      <td>0.064235</td>\n      <td>0.051520</td>\n      <td>1.208255e-03</td>\n      <td>0.034760</td>\n      <td>0.001260</td>\n    </tr>\n  </tbody>\n</table>\n</div>"
     },
     "metadata": {},
     "execution_count": 58
    }
   ],
   "source": [
    "#calculate mean, median, variance, standard deviation, and Cryptocurrency low\n",
    "crypto_low_mean = crypto_low.mean()\n",
    "crypto_low_median = crypto_low.median()\n",
    "crypto_low_variance = crypto_low.var()\n",
    "crypto_low_std = crypto_low.std()\n",
    "crypto_low_sem = crypto_low.sem()\n",
    "\n",
    "#create Dataframe\n",
    "crypto_low_stats = pd.DataFrame({\"Mean\": crypto_low_mean,\"Median\": crypto_low_median, \"Variance\":crypto_low_variance, \"standard deviation\": crypto_low_std, \"Standard Error of the Mean\":crypto_low_sem})\n",
    "\n",
    "#save to csv\n",
    "crypto_low_stats.to_csv(\"output/crypto_low_stats.csv\")\n",
    "\n",
    "#display\n",
    "crypto_low_stats"
   ]
  },
  {
   "cell_type": "code",
   "execution_count": 59,
   "metadata": {},
   "outputs": [
    {
     "output_type": "execute_result",
     "data": {
      "text/plain": [
       "Symbols     Bitcoin Volume  Etheremum Volume  Dogecoin Volume  Tether Volume  \\\n",
       "Date                                                                           \n",
       "2018-05-31    4.921460e+09      1.945890e+09        5436780.0   2.486080e+09   \n",
       "2018-06-01    4.939300e+09      1.880390e+09        5918490.0   3.187570e+09   \n",
       "2018-06-02    4.851760e+09      1.832550e+09       19570200.0   2.796300e+09   \n",
       "2018-06-03    4.993170e+09      1.903430e+09       22162200.0   2.798280e+09   \n",
       "2018-06-04    4.961740e+09      1.844270e+09       18819700.0   2.796070e+09   \n",
       "\n",
       "Symbols     Cardano Volume  \n",
       "Date                        \n",
       "2018-05-31     130538000.0  \n",
       "2018-06-01     116435000.0  \n",
       "2018-06-02     117208000.0  \n",
       "2018-06-03     115605000.0  \n",
       "2018-06-04     119846000.0  "
      ],
      "text/html": "<div>\n<style scoped>\n    .dataframe tbody tr th:only-of-type {\n        vertical-align: middle;\n    }\n\n    .dataframe tbody tr th {\n        vertical-align: top;\n    }\n\n    .dataframe thead th {\n        text-align: right;\n    }\n</style>\n<table border=\"1\" class=\"dataframe\">\n  <thead>\n    <tr style=\"text-align: right;\">\n      <th>Symbols</th>\n      <th>Bitcoin Volume</th>\n      <th>Etheremum Volume</th>\n      <th>Dogecoin Volume</th>\n      <th>Tether Volume</th>\n      <th>Cardano Volume</th>\n    </tr>\n    <tr>\n      <th>Date</th>\n      <th></th>\n      <th></th>\n      <th></th>\n      <th></th>\n      <th></th>\n    </tr>\n  </thead>\n  <tbody>\n    <tr>\n      <th>2018-05-31</th>\n      <td>4.921460e+09</td>\n      <td>1.945890e+09</td>\n      <td>5436780.0</td>\n      <td>2.486080e+09</td>\n      <td>130538000.0</td>\n    </tr>\n    <tr>\n      <th>2018-06-01</th>\n      <td>4.939300e+09</td>\n      <td>1.880390e+09</td>\n      <td>5918490.0</td>\n      <td>3.187570e+09</td>\n      <td>116435000.0</td>\n    </tr>\n    <tr>\n      <th>2018-06-02</th>\n      <td>4.851760e+09</td>\n      <td>1.832550e+09</td>\n      <td>19570200.0</td>\n      <td>2.796300e+09</td>\n      <td>117208000.0</td>\n    </tr>\n    <tr>\n      <th>2018-06-03</th>\n      <td>4.993170e+09</td>\n      <td>1.903430e+09</td>\n      <td>22162200.0</td>\n      <td>2.798280e+09</td>\n      <td>115605000.0</td>\n    </tr>\n    <tr>\n      <th>2018-06-04</th>\n      <td>4.961740e+09</td>\n      <td>1.844270e+09</td>\n      <td>18819700.0</td>\n      <td>2.796070e+09</td>\n      <td>119846000.0</td>\n    </tr>\n  </tbody>\n</table>\n</div>"
     },
     "metadata": {},
     "execution_count": 59
    }
   ],
   "source": [
    "#filter out daily volume\n",
    "crypto_volume = crypto_list_df.Volume.rename(columns={\"BTC-USD\": \"Bitcoin Volume\", \"ETH-USD\": \"Etheremum Volume\",\"DOGE-USD\":\"Dogecoin Volume\", \"USDT-USD\":\"Tether Volume\", \"ADA-USD\":\"Cardano Volume\" })\n",
    "#save to csv\n",
    "crypto_volume.to_csv(\"output/crypto_volume.csv\")\n",
    "#display\n",
    "crypto_volume.head()"
   ]
  },
  {
   "cell_type": "code",
   "execution_count": 60,
   "metadata": {},
   "outputs": [
    {
     "output_type": "execute_result",
     "data": {
      "text/plain": [
       "                          Mean        Median      Variance  \\\n",
       "Symbols                                                      \n",
       "Bitcoin Volume    1.769974e+10  1.562702e+10  1.767691e+20   \n",
       "Etheremum Volume  7.379228e+09  6.658100e+09  3.257107e+19   \n",
       "Dogecoin Volume   6.542154e+07  3.814386e+07  4.514513e+15   \n",
       "Tether Volume     1.973029e+10  1.691267e+10  3.073182e+20   \n",
       "Cardano Volume    9.003584e+07  6.654359e+07  6.816247e+15   \n",
       "\n",
       "                  standard deviation  Standard Error of the Mean  \n",
       "Symbols                                                           \n",
       "Bitcoin Volume          1.329545e+10                4.819599e+08  \n",
       "Etheremum Volume        5.707107e+09                2.068825e+08  \n",
       "Dogecoin Volume         6.719013e+07                2.435640e+06  \n",
       "Tether Volume           1.753049e+10                6.354799e+08  \n",
       "Cardano Volume          8.256056e+07                2.992818e+06  "
      ],
      "text/html": "<div>\n<style scoped>\n    .dataframe tbody tr th:only-of-type {\n        vertical-align: middle;\n    }\n\n    .dataframe tbody tr th {\n        vertical-align: top;\n    }\n\n    .dataframe thead th {\n        text-align: right;\n    }\n</style>\n<table border=\"1\" class=\"dataframe\">\n  <thead>\n    <tr style=\"text-align: right;\">\n      <th></th>\n      <th>Mean</th>\n      <th>Median</th>\n      <th>Variance</th>\n      <th>standard deviation</th>\n      <th>Standard Error of the Mean</th>\n    </tr>\n    <tr>\n      <th>Symbols</th>\n      <th></th>\n      <th></th>\n      <th></th>\n      <th></th>\n      <th></th>\n    </tr>\n  </thead>\n  <tbody>\n    <tr>\n      <th>Bitcoin Volume</th>\n      <td>1.769974e+10</td>\n      <td>1.562702e+10</td>\n      <td>1.767691e+20</td>\n      <td>1.329545e+10</td>\n      <td>4.819599e+08</td>\n    </tr>\n    <tr>\n      <th>Etheremum Volume</th>\n      <td>7.379228e+09</td>\n      <td>6.658100e+09</td>\n      <td>3.257107e+19</td>\n      <td>5.707107e+09</td>\n      <td>2.068825e+08</td>\n    </tr>\n    <tr>\n      <th>Dogecoin Volume</th>\n      <td>6.542154e+07</td>\n      <td>3.814386e+07</td>\n      <td>4.514513e+15</td>\n      <td>6.719013e+07</td>\n      <td>2.435640e+06</td>\n    </tr>\n    <tr>\n      <th>Tether Volume</th>\n      <td>1.973029e+10</td>\n      <td>1.691267e+10</td>\n      <td>3.073182e+20</td>\n      <td>1.753049e+10</td>\n      <td>6.354799e+08</td>\n    </tr>\n    <tr>\n      <th>Cardano Volume</th>\n      <td>9.003584e+07</td>\n      <td>6.654359e+07</td>\n      <td>6.816247e+15</td>\n      <td>8.256056e+07</td>\n      <td>2.992818e+06</td>\n    </tr>\n  </tbody>\n</table>\n</div>"
     },
     "metadata": {},
     "execution_count": 60
    }
   ],
   "source": [
    "#calculate mean, median, variance, standard deviation, and Cryptocurrency volume\n",
    "crypto_volume_mean = crypto_volume.mean()\n",
    "crypto_volume_median = crypto_volume.median()\n",
    "crypto_volume_variance = crypto_volume.var()\n",
    "crypto_volume_std = crypto_volume.std()\n",
    "crypto_volume_sem = crypto_volume.sem()\n",
    "\n",
    "#create Dataframe\n",
    "crypto_volume_stats = pd.DataFrame({\"Mean\": crypto_volume_mean,\"Median\": crypto_volume_median, \"Variance\":crypto_volume_variance, \"standard deviation\": crypto_volume_std, \"Standard Error of the Mean\":crypto_volume_sem})\n",
    "\n",
    "#save to csv\n",
    "crypto_volume_stats.to_csv(\"output/crypto_volume_stats.csv\")\n",
    "\n",
    "#display\n",
    "crypto_volume_stats"
   ]
  },
  {
   "cell_type": "code",
   "execution_count": 61,
   "metadata": {},
   "outputs": [
    {
     "output_type": "execute_result",
     "data": {
      "text/plain": [
       "Symbols     Dow Jones High  NASDAQ High\n",
       "Date                                   \n",
       "2018-06-01        24673.60      7557.38\n",
       "2018-06-04        24859.37      7607.17\n",
       "2018-06-05        24838.78      7644.48\n",
       "2018-06-06        25146.46      7691.65\n",
       "2018-06-07        25326.09      7697.41"
      ],
      "text/html": "<div>\n<style scoped>\n    .dataframe tbody tr th:only-of-type {\n        vertical-align: middle;\n    }\n\n    .dataframe tbody tr th {\n        vertical-align: top;\n    }\n\n    .dataframe thead th {\n        text-align: right;\n    }\n</style>\n<table border=\"1\" class=\"dataframe\">\n  <thead>\n    <tr style=\"text-align: right;\">\n      <th>Symbols</th>\n      <th>Dow Jones High</th>\n      <th>NASDAQ High</th>\n    </tr>\n    <tr>\n      <th>Date</th>\n      <th></th>\n      <th></th>\n    </tr>\n  </thead>\n  <tbody>\n    <tr>\n      <th>2018-06-01</th>\n      <td>24673.60</td>\n      <td>7557.38</td>\n    </tr>\n    <tr>\n      <th>2018-06-04</th>\n      <td>24859.37</td>\n      <td>7607.17</td>\n    </tr>\n    <tr>\n      <th>2018-06-05</th>\n      <td>24838.78</td>\n      <td>7644.48</td>\n    </tr>\n    <tr>\n      <th>2018-06-06</th>\n      <td>25146.46</td>\n      <td>7691.65</td>\n    </tr>\n    <tr>\n      <th>2018-06-07</th>\n      <td>25326.09</td>\n      <td>7697.41</td>\n    </tr>\n  </tbody>\n</table>\n</div>"
     },
     "metadata": {},
     "execution_count": 61
    }
   ],
   "source": [
    "#DOW JONES ticker symbol is ^DJI\n",
    "#NASDAQ ticker symbol is ^IXIC\n",
    "#creat a list of Dow Jones and NASDAQ\n",
    "stock_indexes_list =[\"^DJI\",\"^IXIC\"]\n",
    "#define date range\n",
    "s_date = \"2018-06-01\"\n",
    "e_date = \"2020-06-30\"\n",
    "#creat dataframe two indexes\n",
    "stock_indexes_list_df = data.DataReader(stock_indexes_list, \"yahoo\", start_d,end_d)\n",
    "#filter out daily high\n",
    "stock_indexes_list_high = stock_indexes_list_df.High.round(2).rename(columns={\"^DJI\": \"Dow Jones High\", \"^IXIC\":\"NASDAQ High\"})\n",
    "#save to csv\n",
    "stock_indexes_list_high.to_csv(\"output/stock_indexes_high.csv\")\n",
    "#Display\n",
    "stock_indexes_list_high.head()"
   ]
  },
  {
   "cell_type": "code",
   "execution_count": 65,
   "metadata": {},
   "outputs": [
    {
     "output_type": "execute_result",
     "data": {
      "text/plain": [
       "                        Mean    Median      Variance  standard deviation  \\\n",
       "Symbols                                                                    \n",
       "Dow Jones High  26007.732328  26029.02  2.614745e+06         1617.017169   \n",
       "NASDAQ High      8123.767595   7992.81  5.646125e+05          751.406989   \n",
       "\n",
       "                Standard Error of the Mean  \n",
       "Symbols                                     \n",
       "Dow Jones High                   70.639723  \n",
       "NASDAQ High                      32.825367  "
      ],
      "text/html": "<div>\n<style scoped>\n    .dataframe tbody tr th:only-of-type {\n        vertical-align: middle;\n    }\n\n    .dataframe tbody tr th {\n        vertical-align: top;\n    }\n\n    .dataframe thead th {\n        text-align: right;\n    }\n</style>\n<table border=\"1\" class=\"dataframe\">\n  <thead>\n    <tr style=\"text-align: right;\">\n      <th></th>\n      <th>Mean</th>\n      <th>Median</th>\n      <th>Variance</th>\n      <th>standard deviation</th>\n      <th>Standard Error of the Mean</th>\n    </tr>\n    <tr>\n      <th>Symbols</th>\n      <th></th>\n      <th></th>\n      <th></th>\n      <th></th>\n      <th></th>\n    </tr>\n  </thead>\n  <tbody>\n    <tr>\n      <th>Dow Jones High</th>\n      <td>26007.732328</td>\n      <td>26029.02</td>\n      <td>2.614745e+06</td>\n      <td>1617.017169</td>\n      <td>70.639723</td>\n    </tr>\n    <tr>\n      <th>NASDAQ High</th>\n      <td>8123.767595</td>\n      <td>7992.81</td>\n      <td>5.646125e+05</td>\n      <td>751.406989</td>\n      <td>32.825367</td>\n    </tr>\n  </tbody>\n</table>\n</div>"
     },
     "metadata": {},
     "execution_count": 65
    }
   ],
   "source": [
    "#calculate mean, median, variance, standard deviation, and Dow Jones and NASDAQ high\n",
    "stock_indexes_list_high_mean = stock_indexes_list_high.mean()\n",
    "stock_indexes_list_high_median = stock_indexes_list_high.median()\n",
    "stock_indexes_list_high_variance = stock_indexes_list_high.var()\n",
    "stock_indexes_list_high_std = stock_indexes_list_high.std()\n",
    "stock_indexes_list_high_sem = stock_indexes_list_high.sem()\n",
    "\n",
    "#create Dataframe\n",
    "stock_indexes_list_high_stats = pd.DataFrame({\"Mean\": stock_indexes_list_high_mean,\"Median\": stock_indexes_list_high_median, \"Variance\":stock_indexes_list_high_variance, \"standard deviation\": stock_indexes_list_high_std, \"Standard Error of the Mean\":stock_indexes_list_high_sem})\n",
    "\n",
    "#save to csv\n",
    "stock_indexes_list_high_stats.to_csv(\"output/stock_indexes_high_stats.csv\")\n",
    "\n",
    "#display\n",
    "stock_indexes_list_high_stats"
   ]
  },
  {
   "cell_type": "code",
   "execution_count": 62,
   "metadata": {},
   "outputs": [
    {
     "output_type": "execute_result",
     "data": {
      "text/plain": [
       "Symbols     Dow Jones Low  NASDAQ Low\n",
       "Date                                 \n",
       "2018-06-01       24542.09     7487.23\n",
       "2018-06-04       24722.14     7561.20\n",
       "2018-06-05       24710.82     7602.38\n",
       "2018-06-06       24854.14     7622.31\n",
       "2018-06-07       25164.48     7597.66"
      ],
      "text/html": "<div>\n<style scoped>\n    .dataframe tbody tr th:only-of-type {\n        vertical-align: middle;\n    }\n\n    .dataframe tbody tr th {\n        vertical-align: top;\n    }\n\n    .dataframe thead th {\n        text-align: right;\n    }\n</style>\n<table border=\"1\" class=\"dataframe\">\n  <thead>\n    <tr style=\"text-align: right;\">\n      <th>Symbols</th>\n      <th>Dow Jones Low</th>\n      <th>NASDAQ Low</th>\n    </tr>\n    <tr>\n      <th>Date</th>\n      <th></th>\n      <th></th>\n    </tr>\n  </thead>\n  <tbody>\n    <tr>\n      <th>2018-06-01</th>\n      <td>24542.09</td>\n      <td>7487.23</td>\n    </tr>\n    <tr>\n      <th>2018-06-04</th>\n      <td>24722.14</td>\n      <td>7561.20</td>\n    </tr>\n    <tr>\n      <th>2018-06-05</th>\n      <td>24710.82</td>\n      <td>7602.38</td>\n    </tr>\n    <tr>\n      <th>2018-06-06</th>\n      <td>24854.14</td>\n      <td>7622.31</td>\n    </tr>\n    <tr>\n      <th>2018-06-07</th>\n      <td>25164.48</td>\n      <td>7597.66</td>\n    </tr>\n  </tbody>\n</table>\n</div>"
     },
     "metadata": {},
     "execution_count": 62
    }
   ],
   "source": [
    "#filter out daily low\n",
    "stock_indexes_list_low = stock_indexes_list_df.Low.round(2).rename(columns={\"^DJI\": \"Dow Jones Low\", \"^IXIC\":\"NASDAQ Low\"})\n",
    "#save to csv\n",
    "stock_indexes_list_low.to_csv(\"output/stock_indexes_low.csv\")\n",
    "#Display\n",
    "stock_indexes_list_low.head()"
   ]
  },
  {
   "cell_type": "code",
   "execution_count": 66,
   "metadata": {},
   "outputs": [
    {
     "output_type": "execute_result",
     "data": {
      "text/plain": [
       "                       Mean     Median      Variance  standard deviation  \\\n",
       "Symbols                                                                    \n",
       "Dow Jones Low  25680.247405  25734.545  3.122675e+06         1767.109133   \n",
       "NASDAQ Low      8007.239008   7899.600  5.708795e+05          755.565695   \n",
       "\n",
       "               Standard Error of the Mean  \n",
       "Symbols                                    \n",
       "Dow Jones Low                   77.196521  \n",
       "NASDAQ Low                      33.007041  "
      ],
      "text/html": "<div>\n<style scoped>\n    .dataframe tbody tr th:only-of-type {\n        vertical-align: middle;\n    }\n\n    .dataframe tbody tr th {\n        vertical-align: top;\n    }\n\n    .dataframe thead th {\n        text-align: right;\n    }\n</style>\n<table border=\"1\" class=\"dataframe\">\n  <thead>\n    <tr style=\"text-align: right;\">\n      <th></th>\n      <th>Mean</th>\n      <th>Median</th>\n      <th>Variance</th>\n      <th>standard deviation</th>\n      <th>Standard Error of the Mean</th>\n    </tr>\n    <tr>\n      <th>Symbols</th>\n      <th></th>\n      <th></th>\n      <th></th>\n      <th></th>\n      <th></th>\n    </tr>\n  </thead>\n  <tbody>\n    <tr>\n      <th>Dow Jones Low</th>\n      <td>25680.247405</td>\n      <td>25734.545</td>\n      <td>3.122675e+06</td>\n      <td>1767.109133</td>\n      <td>77.196521</td>\n    </tr>\n    <tr>\n      <th>NASDAQ Low</th>\n      <td>8007.239008</td>\n      <td>7899.600</td>\n      <td>5.708795e+05</td>\n      <td>755.565695</td>\n      <td>33.007041</td>\n    </tr>\n  </tbody>\n</table>\n</div>"
     },
     "metadata": {},
     "execution_count": 66
    }
   ],
   "source": [
    "#calculate mean, median, variance, standard deviation, and Dow Jones and NASDAQ low\n",
    "stock_indexes_list_low_mean = stock_indexes_list_low.mean()\n",
    "stock_indexes_list_low_median = stock_indexes_list_low.median()\n",
    "stock_indexes_list_low_variance = stock_indexes_list_low.var()\n",
    "stock_indexes_list_low_std = stock_indexes_list_low.std()\n",
    "stock_indexes_list_low_sem = stock_indexes_list_low.sem()\n",
    "\n",
    "#create Dataframe\n",
    "stock_indexes_list_low_stats = pd.DataFrame({\"Mean\": stock_indexes_list_low_mean,\"Median\": stock_indexes_list_low_median, \"Variance\":stock_indexes_list_low_variance, \"standard deviation\": stock_indexes_list_low_std, \"Standard Error of the Mean\":stock_indexes_list_low_sem})\n",
    "\n",
    "#save to csv\n",
    "stock_indexes_list_low_stats.to_csv(\"output/stock_indexes_low_stats.csv\")\n",
    "#Display\n",
    "\n",
    "#display\n",
    "stock_indexes_list_low_stats"
   ]
  },
  {
   "cell_type": "code",
   "execution_count": 63,
   "metadata": {},
   "outputs": [
    {
     "output_type": "execute_result",
     "data": {
      "text/plain": [
       "Symbols     Dow Jones Volume  NASDAQ Volume\n",
       "Date                                       \n",
       "2018-06-01         315710000     2208600000\n",
       "2018-06-04         340400000     2142790000\n",
       "2018-06-05         306340000     2058630000\n",
       "2018-06-06         316090000     2191750000\n",
       "2018-06-07         357680000     2328280000"
      ],
      "text/html": "<div>\n<style scoped>\n    .dataframe tbody tr th:only-of-type {\n        vertical-align: middle;\n    }\n\n    .dataframe tbody tr th {\n        vertical-align: top;\n    }\n\n    .dataframe thead th {\n        text-align: right;\n    }\n</style>\n<table border=\"1\" class=\"dataframe\">\n  <thead>\n    <tr style=\"text-align: right;\">\n      <th>Symbols</th>\n      <th>Dow Jones Volume</th>\n      <th>NASDAQ Volume</th>\n    </tr>\n    <tr>\n      <th>Date</th>\n      <th></th>\n      <th></th>\n    </tr>\n  </thead>\n  <tbody>\n    <tr>\n      <th>2018-06-01</th>\n      <td>315710000</td>\n      <td>2208600000</td>\n    </tr>\n    <tr>\n      <th>2018-06-04</th>\n      <td>340400000</td>\n      <td>2142790000</td>\n    </tr>\n    <tr>\n      <th>2018-06-05</th>\n      <td>306340000</td>\n      <td>2058630000</td>\n    </tr>\n    <tr>\n      <th>2018-06-06</th>\n      <td>316090000</td>\n      <td>2191750000</td>\n    </tr>\n    <tr>\n      <th>2018-06-07</th>\n      <td>357680000</td>\n      <td>2328280000</td>\n    </tr>\n  </tbody>\n</table>\n</div>"
     },
     "metadata": {},
     "execution_count": 63
    }
   ],
   "source": [
    "#filter out daily volume\n",
    "stock_indexes_list_volume = stock_indexes_list_df.Volume.rename(columns={\"^DJI\": \"Dow Jones Volume\", \"^IXIC\":\"NASDAQ Volume\"})\n",
    "#save to csv\n",
    "stock_indexes_list_volume.to_csv(\"output/stock_indexes_volume.csv\")\n",
    "#Display\n",
    "stock_indexes_list_volume.head()"
   ]
  },
  {
   "cell_type": "code",
   "execution_count": 67,
   "metadata": {},
   "outputs": [
    {
     "output_type": "execute_result",
     "data": {
      "text/plain": [
       "                          Mean        Median      Variance  \\\n",
       "Symbols                                                      \n",
       "Dow Jones Volume  3.295807e+08  2.915700e+08  1.661604e+16   \n",
       "NASDAQ Volume     2.564819e+09  2.256890e+09  8.682351e+17   \n",
       "\n",
       "                  standard deviation  Standard Error of the Mean  \n",
       "Symbols                                                           \n",
       "Dow Jones Volume        1.289032e+08                5.631163e+06  \n",
       "NASDAQ Volume           9.317914e+08                4.070549e+07  "
      ],
      "text/html": "<div>\n<style scoped>\n    .dataframe tbody tr th:only-of-type {\n        vertical-align: middle;\n    }\n\n    .dataframe tbody tr th {\n        vertical-align: top;\n    }\n\n    .dataframe thead th {\n        text-align: right;\n    }\n</style>\n<table border=\"1\" class=\"dataframe\">\n  <thead>\n    <tr style=\"text-align: right;\">\n      <th></th>\n      <th>Mean</th>\n      <th>Median</th>\n      <th>Variance</th>\n      <th>standard deviation</th>\n      <th>Standard Error of the Mean</th>\n    </tr>\n    <tr>\n      <th>Symbols</th>\n      <th></th>\n      <th></th>\n      <th></th>\n      <th></th>\n      <th></th>\n    </tr>\n  </thead>\n  <tbody>\n    <tr>\n      <th>Dow Jones Volume</th>\n      <td>3.295807e+08</td>\n      <td>2.915700e+08</td>\n      <td>1.661604e+16</td>\n      <td>1.289032e+08</td>\n      <td>5.631163e+06</td>\n    </tr>\n    <tr>\n      <th>NASDAQ Volume</th>\n      <td>2.564819e+09</td>\n      <td>2.256890e+09</td>\n      <td>8.682351e+17</td>\n      <td>9.317914e+08</td>\n      <td>4.070549e+07</td>\n    </tr>\n  </tbody>\n</table>\n</div>"
     },
     "metadata": {},
     "execution_count": 67
    }
   ],
   "source": [
    "#calculate mean, median, variance, standard deviation, and Dow Jones and NASDAQ volume\n",
    "stock_indexes_list_volume_mean = stock_indexes_list_volume.mean()\n",
    "stock_indexes_list_volume_median = stock_indexes_list_volume.median()\n",
    "stock_indexes_list_volume_variance = stock_indexes_list_volume.var()\n",
    "stock_indexes_list_volume_std = stock_indexes_list_volume.std()\n",
    "stock_indexes_list_volume_sem = stock_indexes_list_volume.sem()\n",
    "\n",
    "#create Dataframe\n",
    "stock_indexes_list_volume_stats = pd.DataFrame({\"Mean\": stock_indexes_list_volume_mean,\"Median\": stock_indexes_list_volume_median, \"Variance\":stock_indexes_list_volume_variance, \"standard deviation\": stock_indexes_list_volume_std, \"Standard Error of the Mean\":stock_indexes_list_volume_sem})\n",
    "\n",
    "#save to csv\n",
    "stock_indexes_list_volume_stats.to_csv(\"output/stock_indexes_volume_stats.csv\")\n",
    "\n",
    "#display\n",
    "stock_indexes_list_volume_stats"
   ]
  },
  {
   "cell_type": "code",
   "execution_count": null,
   "metadata": {},
   "outputs": [],
   "source": []
  }
 ],
 "metadata": {
  "anaconda-cloud": {},
  "kernelspec": {
   "name": "python3",
   "display_name": "Python 3.8.8 64-bit ('base': conda)"
  },
  "language_info": {
   "codemirror_mode": {
    "name": "ipython",
    "version": 3
   },
   "file_extension": ".py",
   "mimetype": "text/x-python",
   "name": "python",
   "nbconvert_exporter": "python",
   "pygments_lexer": "ipython3",
   "version": "3.8.8"
  },
  "interpreter": {
   "hash": "b3ba2566441a7c06988d0923437866b63cedc61552a5af99d1f4fb67d367b25f"
  }
 },
 "nbformat": 4,
 "nbformat_minor": 2
}