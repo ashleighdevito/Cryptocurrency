{
 "metadata": {
  "language_info": {
   "codemirror_mode": {
    "name": "ipython",
    "version": 3
   },
   "file_extension": ".py",
   "mimetype": "text/x-python",
   "name": "python",
   "nbconvert_exporter": "python",
   "pygments_lexer": "ipython3",
   "version": "3.6.10"
  },
  "orig_nbformat": 4,
  "kernelspec": {
   "name": "python3",
   "display_name": "Python 3.6.10 64-bit ('PythonData': conda)"
  },
  "interpreter": {
   "hash": "ed99c328fe6228cde88a5ea9dac3573c8a80070b6f57470153ed5be436ecc5ea"
  }
 },
 "nbformat": 4,
 "nbformat_minor": 2,
 "cells": [
  {
   "cell_type": "code",
   "execution_count": 1,
   "metadata": {},
   "outputs": [],
   "source": [
    "# Dependencies\n",
    "import requests\n",
    "import json\n",
    "import pandas as pd\n",
    "import time\n",
    "import pprint\n",
    "import datetime as dt\n"
   ]
  },
  {
   "cell_type": "code",
   "execution_count": 3,
   "metadata": {},
   "outputs": [
    {
     "output_type": "stream",
     "name": "stdout",
     "text": [
      "Up to time 1527830059\n",
      "Up to time 1527834608\n",
      "Up to time 1527838634\n",
      "Up to time 1527842009\n",
      "Up to time 1527846154\n",
      "Up to time 1527850779\n",
      "Up to time 1527855059\n",
      "Up to time 1527858922\n"
     ]
    }
   ],
   "source": [
    "start = 1527825600\n",
    "end = 1527858000\n",
    "#trueend = 1593576000\n",
    "\n",
    "bound = start\n",
    "\n",
    "bitcoin_comment_times = {'Timestamp' : [], 'SubReddit' : []}\n",
    "\n",
    "while bound < end:\n",
    "    url = f\"https://api.pushshift.io/reddit/search/comment/?size=100&after={bound}&before=1529035200&q=Bitcoin\"\n",
    "    crypto_comment_batch = requests.get(url).json()\n",
    "    set_length = len(crypto_comment_batch['data'])\n",
    "    i = 0\n",
    "    while i < set_length:\n",
    "        bitcoin_comment_times['Timestamp'].append(crypto_comment_batch['data'][i]['created_utc'])\n",
    "        bitcoin_comment_times['SubReddit'].append(crypto_comment_batch['data'][i]['subreddit'])\n",
    "        i += 1\n",
    "    time.sleep(1)\n",
    "    bound = crypto_comment_batch['data'][set_length-1]['created_utc']\n",
    "    print(f'Up to time {bound}')\n",
    "\n",
    "bitcoin_comment_df = pd.DataFrame(bitcoin_comment_times, columns = ['Timestamp', 'SubReddit'])\n",
    "bitcoin_comment_df.to_csv(\"output/bitcoin_comments.csv\")"
   ]
  },
  {
   "cell_type": "code",
   "execution_count": null,
   "metadata": {},
   "outputs": [],
   "source": []
  }
 ]
}